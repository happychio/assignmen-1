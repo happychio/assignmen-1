{
 "cells": [
  {
   "cell_type": "code",
   "execution_count": null,
   "id": "aef035f6",
   "metadata": {},
   "outputs": [],
   "source": [
    "'''Assignment 1\n",
    "\n",
    "This assignment covers your basic profiency with\n",
    "    Python. It engages your ability to transform\n",
    "    data without affecting anything outside the program.\n",
    "\n",
    "This assignment places heavy emphasis on basic Python constructs.\n",
    "'''    '''Item 1. \n",
    "    Factorial. 1 point.\n",
    "    \n",
    "    Returns the factorial of an integer.\n",
    "    An integer's factorial is the product of the integer and all\n",
    "        integers below it.\n",
    "\n",
    "    Parameters\n",
    "    ----------\n",
    "    x: int\n",
    "        the integer whose factorial to return\n",
    "\n",
    "    Returns\n",
    "    -------\n",
    "    integer\n",
    "        the factorial of the argument\n",
    "    '''\n",
    "    # Write your code below this line"
   ]
  },
  {
   "cell_type": "code",
   "execution_count": 49,
   "id": "d9391ec4",
   "metadata": {},
   "outputs": [],
   "source": [
    "def factorial(x):\n",
    "    num=1\n",
    "    for i in range (1,x):\n",
    "        num = x*i\n",
    "        x = num\n",
    "    return num"
   ]
  },
  {
   "cell_type": "code",
   "execution_count": 50,
   "id": "5eb861c6",
   "metadata": {},
   "outputs": [
    {
     "name": "stdout",
     "output_type": "stream",
     "text": [
      "Enter Number: 5\n",
      "120\n"
     ]
    }
   ],
   "source": [
    "x= int(input(\"Enter Number: \"))\n",
    "result = factorial(x)\n",
    "print(result)\n",
    "    "
   ]
  },
  {
   "cell_type": "code",
   "execution_count": 48,
   "id": "a22005fe",
   "metadata": {},
   "outputs": [],
   "source": [
    "def classify_grade(number_grade):\n",
    "    '''Item 2.\n",
    "    Classify Grade. 2 points.\n",
    "    \n",
    "    Returns the letter grade equivalent of a number grade.\n",
    "    For this item, use these letter grade buckets:\n",
    "        A: 92-100\n",
    "        B+: 86-91.9\n",
    "        B: 80-85.9\n",
    "        C+: 74-79.9\n",
    "        C: 67-73.9\n",
    "        D: 60-66.9\n",
    "        F: 0-59.9\n",
    "\n",
    "    Parameters\n",
    "    ----------\n",
    "    number_grade: float\n",
    "        the number grade to convert into a letter grade.\n",
    "\n",
    "    Returns\n",
    "    -------\n",
    "    str\n",
    "        the letter grade equivalent of the number grade.\n",
    "    '''\n",
    "    # Write your code below this line"
   ]
  },
  {
   "cell_type": "code",
   "execution_count": 24,
   "id": "f3170792",
   "metadata": {},
   "outputs": [],
   "source": [
    "\n",
    "def classify_grade(number_grade):\n",
    "    grade=\"NA\"\n",
    "    \n",
    "    if number_grade <= 59.9:\n",
    "        grade = \"F\"\n",
    "    elif number_grade <= 66.5:\n",
    "        grade= \"D\"\n",
    "    elif number_grade <= 73.9:\n",
    "        grade = \"C\"\n",
    "    elif number_grade <= 79.9:\n",
    "        grade = \"C+\" \n",
    "    elif number_grade <= 85.9:\n",
    "        grade = \"B\"\n",
    "    elif number_grade <= 91.9:\n",
    "        grade = \"B+\"\n",
    "    elif number_grade <= 100:\n",
    "        grade = \"A\"\n",
    "        \n",
    "    \n",
    "    return grade\n",
    "    "
   ]
  },
  {
   "cell_type": "code",
   "execution_count": 22,
   "id": "ec61af9f",
   "metadata": {},
   "outputs": [
    {
     "name": "stdout",
     "output_type": "stream",
     "text": [
      "Enter Grade: 84\n",
      "B\n"
     ]
    }
   ],
   "source": [
    "number_grade=float(input(\"Enter Grade: \"))\n",
    "letter= classify_grade(number_grade)\n",
    "print(letter)"
   ]
  },
  {
   "cell_type": "code",
   "execution_count": 23,
   "id": "68be2170",
   "metadata": {},
   "outputs": [],
   "source": [
    "def average_weight(item_quantity_1, item_weight_1, item_quantity_2, item_weight_2):\n",
    "    '''Item 3.\n",
    "    Average Weight. 3 points.\n",
    "    \n",
    "    You have purchased two bags of items. \n",
    "    The first bag contains one type of item, and the second bag contains another type.\n",
    "    Return the weighted average weight of the items.\n",
    "        \n",
    "    Parameters\n",
    "    ----------\n",
    "    item_quantity_1: int\n",
    "        the quantity of items in the first bag.\n",
    "    item_weight_1: float\n",
    "        the weight of each individual item in the first bag.\n",
    "    item_quantity_2: int\n",
    "        the quantity of items in the second bag.\n",
    "    item_weight_2: float\n",
    "        the weight of each individual item in the second bag.\n",
    "\n",
    "    Returns\n",
    "    -------\n",
    "    float\n",
    "        the weighted average weight of one item.\n",
    "    '''\n",
    "    # Write your code below this line"
   ]
  },
  {
   "cell_type": "code",
   "execution_count": 25,
   "id": "67d112f7",
   "metadata": {},
   "outputs": [],
   "source": [
    "def average_weight(item_quantity_1, item_weight_1, item_quantity_2, item_weight_2):\n",
    "    average = ((item_quantity_1*item_weight_1)+(item_quantity_2* item_weight_2))/(item_quantity_1+item_quantity_2)\n",
    "    return average"
   ]
  },
  {
   "cell_type": "code",
   "execution_count": 27,
   "id": "ef7dad19",
   "metadata": {},
   "outputs": [
    {
     "name": "stdout",
     "output_type": "stream",
     "text": [
      "Enter Item 1 Quantity: 1\n",
      "Enter Item 1 Weight: 2\n",
      "Enter Item 2 Quantity: 1\n",
      "Enter Item 2 Weight: 2\n",
      "2.0\n"
     ]
    }
   ],
   "source": [
    "item_quantity_1= int(input(\"Enter Item 1 Quantity: \"))\n",
    "item_weight_1= float(input(\"Enter Item 1 Weight: \"))\n",
    "\n",
    "item_quantity_2= int(input(\"Enter Item 2 Quantity: \"))\n",
    "item_weight_2= float(input(\"Enter Item 2 Weight: \"))\n",
    "\n",
    "ave = average_weight(item_quantity_1, item_weight_1, item_quantity_2, item_weight_2)\n",
    "\n",
    "print(ave)"
   ]
  },
  {
   "cell_type": "code",
   "execution_count": null,
   "id": "258d4c40",
   "metadata": {},
   "outputs": [],
   "source": [
    "def string_sum(string):\n",
    "    '''Item 4.\n",
    "    String Sum. 3 points.\n",
    "    \n",
    "    Returns the sum of the digits provided in a string.\n",
    "    For this item:\n",
    "        1. Sum the digits contained in the string.\n",
    "        2. Ignore any non-digit characters contained in the string.\n",
    "\n",
    "    Parameters\n",
    "    ----------\n",
    "    string: str\n",
    "        a string that can contain any character.\n",
    "\n",
    "    Returns\n",
    "    -------\n",
    "    int\n",
    "        the sum of the digits contained in the string.\n",
    "    '''\n",
    "    # Write your code below this line"
   ]
  },
  {
   "cell_type": "code",
   "execution_count": 58,
   "id": "2f9d2509",
   "metadata": {},
   "outputs": [],
   "source": [
    "def string_sum(string):\n",
    "    n = [\"0\",\"1\",\"2\",\"3\",\"4\",\"5\",\"6\",\"7\",\"8\",\"9\"]\n",
    "    sum = 0\n",
    "    length = len(string)\n",
    "    for i in range (length):\n",
    "        if string[i] in n:\n",
    "            sum = int(string[i])+sum\n",
    "    return sum"
   ]
  },
  {
   "cell_type": "code",
   "execution_count": 59,
   "id": "f66167cf",
   "metadata": {},
   "outputs": [
    {
     "name": "stdout",
     "output_type": "stream",
     "text": [
      "Enter Word: he21o\n",
      "3\n"
     ]
    }
   ],
   "source": [
    "string = str(input(\"Enter Word: \"))\n",
    "word = string_sum(string)\n",
    "print(word)"
   ]
  },
  {
   "cell_type": "code",
   "execution_count": null,
   "id": "4cfa7ed4",
   "metadata": {},
   "outputs": [],
   "source": [
    "def distance(x_1, y_1, x_2, y_2):\n",
    "    '''Item 5.\n",
    "    Distance. 3 points.\n",
    "\n",
    "    Returns the distance between two points.\n",
    "    To get the distance between two points:\n",
    "        1. Get the difference between the two x-coordinates\n",
    "        2. Get the difference between the two y-coordinates\n",
    "        3. Sum the previous two values\n",
    "        4. Return the square root of the sum\n",
    "\n",
    "    You may want to import the `math` library for this number.\n",
    "\n",
    "    Parameters\n",
    "    ----------\n",
    "    x_1: float\n",
    "        the first x-coordinate\n",
    "    y_1: float\n",
    "        the first y-coordinate\n",
    "    x_2: float\n",
    "        the second x-coordinate\n",
    "    y_2: float\n",
    "        the second y-coordinate\n",
    "\n",
    "    Returns\n",
    "    -------\n",
    "    float\n",
    "        the distance between the two coordinates\n",
    "    '''\n",
    "    # Write your code below this line"
   ]
  },
  {
   "cell_type": "code",
   "execution_count": 64,
   "id": "52585d05",
   "metadata": {},
   "outputs": [],
   "source": [
    "import math\n",
    "def distance(x_1, y_1, x_2, y_2):\n",
    "    dif_x = x_1-x_2\n",
    "    dif_y=y_1-y_2\n",
    "    sum = abs(dif_x) + abs(dif_y)\n",
    "    square = math.sqrt(sum)\n",
    "    \n",
    "    return square\n"
   ]
  },
  {
   "cell_type": "code",
   "execution_count": 65,
   "id": "b6fe05bd",
   "metadata": {},
   "outputs": [
    {
     "name": "stdout",
     "output_type": "stream",
     "text": [
      "Enter 1st X-Coordinate2\n",
      "Enter 2nd X-Coordinate3\n",
      "Enter 1st Y-Coordinate4\n",
      "Enter 2nd Y-Coordinate1\n",
      "2.0\n"
     ]
    }
   ],
   "source": [
    "x_1= float(input(\"Enter 1st X-Coordinate: \"))\n",
    "x_2= float(input(\"Enter 2nd X-Coordinate: \"))\n",
    "y_1= float(input(\"Enter 1st Y-Coordinate: \"))\n",
    "y_2= float(input(\"Enter 2nd Y-Coordinate: \"))\n",
    "\n",
    "dist= distance(x_1, y_1, x_2, y_2)\n",
    "print(dist)"
   ]
  },
  {
   "cell_type": "code",
   "execution_count": null,
   "id": "b671650f",
   "metadata": {},
   "outputs": [],
   "source": [
    "    \n",
    "def make_change(amount):\n",
    "    '''Item 6.\n",
    "    Make Change. 5 points.\n",
    "    \n",
    "    Return the combination of coins needed to make change for the given amount,\n",
    "        which is given in centavos.\n",
    "    For this item:\n",
    "        1. You can return 1 peso, 25 centavos, 10 centavos, 5 centavos, and 1 centavo coins.\n",
    "        2. Use the minimum number of coins possible.\n",
    "\n",
    "    Parameters\n",
    "    ----------\n",
    "    amount: int\n",
    "        the amount, in centavos, to make change for.\n",
    "\n",
    "    Returns\n",
    "    -------\n",
    "    str\n",
    "        the string representation of the change to be given.\n",
    "        Format it like this:\n",
    "            \"1P:{amount}/25C:{amount}/10C:{amount}/5C:{amount}/1C:{amount}\"\n",
    "    '''\n",
    "    # Write your code below this line"
   ]
  },
  {
   "cell_type": "code",
   "execution_count": 180,
   "id": "a7fc7735",
   "metadata": {},
   "outputs": [],
   "source": [
    "def make_change(amount):\n",
    "    piso=0\n",
    "    quarter=0\n",
    "    fives=0\n",
    "    ones=0\n",
    "    tens=0\n",
    " \n",
    "    piso= amount//1\n",
    "    amount = amount - piso*1\n",
    "    piso = str(piso)\n",
    "\n",
    "    quarter = amount// 0.25\n",
    "    amount = amount - quarter*0.25\n",
    "    quarter = str(quarter)\n",
    "\n",
    "    tens = amount// 0.1\n",
    "    amount = amount - tens*0.1\n",
    "    tens = str(tens)\n",
    "\n",
    "    fives = amount// 0.05\n",
    "    amount = amount - fives*0.05\n",
    "    fives = str(fives)\n",
    "\n",
    "    ones = amount// 0.01\n",
    "    amount = amount - ones*0.01\n",
    "    ones = str(ones)\n",
    "    \n",
    "    total = \"1P:{}/25C:{}/10C:{}/5C:{}/1C:{}\".format(piso, quarter,tens,fives,ones)\n",
    "\n",
    "    return total\n",
    "      "
   ]
  },
  {
   "cell_type": "code",
   "execution_count": 181,
   "id": "e4edb5e7",
   "metadata": {},
   "outputs": [
    {
     "name": "stdout",
     "output_type": "stream",
     "text": [
      "Enter amount: 4.32\n",
      "1P:4.0/25C:1.0/10C:0.0/5C:1.0/1C:2.0\n"
     ]
    }
   ],
   "source": [
    "amount = float(input(\"Enter amount: \"))\n",
    "change = make_change(amount)\n",
    "print(change)"
   ]
  },
  {
   "cell_type": "code",
   "execution_count": null,
   "id": "5ef2a65c",
   "metadata": {},
   "outputs": [],
   "source": []
  },
  {
   "cell_type": "code",
   "execution_count": null,
   "id": "f383c22f",
   "metadata": {},
   "outputs": [],
   "source": []
  }
 ],
 "metadata": {
  "kernelspec": {
   "display_name": "Python 3 (ipykernel)",
   "language": "python",
   "name": "python3"
  },
  "language_info": {
   "codemirror_mode": {
    "name": "ipython",
    "version": 3
   },
   "file_extension": ".py",
   "mimetype": "text/x-python",
   "name": "python",
   "nbconvert_exporter": "python",
   "pygments_lexer": "ipython3",
   "version": "3.9.7"
  }
 },
 "nbformat": 4,
 "nbformat_minor": 5
}
